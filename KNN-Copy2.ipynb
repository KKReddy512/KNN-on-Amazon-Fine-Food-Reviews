{
 "cells": [
  {
   "cell_type": "markdown",
   "metadata": {},
   "source": [
    "# KNN on Amazon Fine Food Reviews"
   ]
  },
  {
   "cell_type": "markdown",
   "metadata": {},
   "source": [
    "The Amazon Fine Food Reviews dataset consists of reviews of fine foods from Amazon.\n",
    "\n",
    "Number of reviews: 568,454 Number of users: 256,059 Number of products: 74,258 Timespan: Oct 1999 - Oct 2012 Number of Attributes/Columns in data: 10\n",
    "\n",
    "Attribute Information:\n",
    "\n",
    "    Id - Row Id\n",
    "    ProductId - unique identifier for the product\n",
    "    UserId - unqiue identifier for the user\n",
    "    ProfileName - Profile name of the user\n",
    "    HelpfulnessNumerator - number of users who found the review helpful\n",
    "    HelpfulnessDenominator - number of users who indicated whether they found the review helpful or not\n",
    "    Score - rating between 1 and 5\n",
    "    Time - timestamp for the review\n",
    "    Summary - brief summary of the review\n",
    "    Text - text of the review\n"
   ]
  },
  {
   "cell_type": "markdown",
   "metadata": {},
   "source": [
    "# About KNN"
   ]
  },
  {
   "cell_type": "markdown",
   "metadata": {},
   "source": [
    "KNN means K-Neighbour neighbours which can store all available cases and classifies new measures based on the similarity \n",
    "measure(e.g., distance functions)\n",
    "\n",
    "KNN can use different distance functions like Euclidean distance, Hamming distance, Manhattan distance etc...\n",
    "\n",
    "For a given query we will find out the class label(+ve or -ve) using the K-nearest neighbours based on this we will give majority vote for the class label.\n",
    "\n",
    "For KNN, K is an hyperparameter so, as K increases then the smoothness of the decision surface will increase.\n",
    "\n",
    "Build KNN with featurisation techniques like BOW, TFIDF, AVGW2V, TFIDFW2V\n",
    "\n",
    "Find the optimal K and predict the accuracy score"
   ]
  },
  {
   "cell_type": "code",
   "execution_count": 1,
   "metadata": {
    "scrolled": true
   },
   "outputs": [
    {
     "name": "stderr",
     "output_type": "stream",
     "text": [
      "/usr/local/lib/python3.5/site-packages/sklearn/cross_validation.py:41: DeprecationWarning: This module was deprecated in version 0.18 in favor of the model_selection module into which all the refactored classes and functions are moved. Also note that the interface of the new CV iterators are different from that of this module. This module will be removed in 0.20.\n",
      "  \"This module will be removed in 0.20.\", DeprecationWarning)\n"
     ]
    }
   ],
   "source": [
    "# Import the relevant libraries\n",
    "import sqlite3\n",
    "import pandas as pd\n",
    "import numpy as np\n",
    "import matplotlib.pyplot as plt\n",
    "#import scikitplot as skplt\n",
    "import seaborn as sns\n",
    "\n",
    "import os\n",
    "import re\n",
    "import nltk\n",
    "import string\n",
    "from nltk.corpus import stopwords \n",
    "import string\n",
    "from nltk.stem import PorterStemmer\n",
    "from nltk.stem import SnowballStemmer\n",
    "\n",
    "from sklearn.feature_extraction.text import CountVectorizer\n",
    "from sklearn import preprocessing\n",
    "from sklearn.manifold import TSNE\n",
    "from sklearn.feature_extraction.text import TfidfVectorizer\n",
    "from sklearn.cross_validation import train_test_split \n",
    "from sklearn.preprocessing import MaxAbsScaler\n",
    "import gensim\n",
    "import warnings\n",
    "warnings.filterwarnings('ignore')\n",
    "\n",
    "#KNN imports\n",
    "from sklearn.neighbors import KNeighborsClassifier\n",
    "from sklearn.metrics import confusion_matrix\n",
    "from sklearn.metrics import accuracy_score\n",
    "from sklearn.cross_validation import cross_val_score\n",
    "from tqdm import tqdm\n",
    "from sklearn.decomposition import TruncatedSVD\n",
    "from sklearn.decomposition import PCA"
   ]
  },
  {
   "cell_type": "code",
   "execution_count": 2,
   "metadata": {},
   "outputs": [
    {
     "name": "stdout",
     "output_type": "stream",
     "text": [
      "Actual Shape of data: (100000, 10)\n"
     ]
    },
    {
     "data": {
      "text/html": [
       "<div>\n",
       "<style scoped>\n",
       "    .dataframe tbody tr th:only-of-type {\n",
       "        vertical-align: middle;\n",
       "    }\n",
       "\n",
       "    .dataframe tbody tr th {\n",
       "        vertical-align: top;\n",
       "    }\n",
       "\n",
       "    .dataframe thead th {\n",
       "        text-align: right;\n",
       "    }\n",
       "</style>\n",
       "<table border=\"1\" class=\"dataframe\">\n",
       "  <thead>\n",
       "    <tr style=\"text-align: right;\">\n",
       "      <th></th>\n",
       "      <th>Id</th>\n",
       "      <th>ProductId</th>\n",
       "      <th>UserId</th>\n",
       "      <th>ProfileName</th>\n",
       "      <th>HelpfulnessNumerator</th>\n",
       "      <th>HelpfulnessDenominator</th>\n",
       "      <th>Score</th>\n",
       "      <th>Time</th>\n",
       "      <th>Summary</th>\n",
       "      <th>Text</th>\n",
       "    </tr>\n",
       "  </thead>\n",
       "  <tbody>\n",
       "    <tr>\n",
       "      <th>0</th>\n",
       "      <td>1</td>\n",
       "      <td>B001E4KFG0</td>\n",
       "      <td>A3SGXH7AUHU8GW</td>\n",
       "      <td>delmartian</td>\n",
       "      <td>1</td>\n",
       "      <td>1</td>\n",
       "      <td>5</td>\n",
       "      <td>1303862400</td>\n",
       "      <td>Good Quality Dog Food</td>\n",
       "      <td>I have bought several of the Vitality canned d...</td>\n",
       "    </tr>\n",
       "    <tr>\n",
       "      <th>1</th>\n",
       "      <td>2</td>\n",
       "      <td>B00813GRG4</td>\n",
       "      <td>A1D87F6ZCVE5NK</td>\n",
       "      <td>dll pa</td>\n",
       "      <td>0</td>\n",
       "      <td>0</td>\n",
       "      <td>1</td>\n",
       "      <td>1346976000</td>\n",
       "      <td>Not as Advertised</td>\n",
       "      <td>Product arrived labeled as Jumbo Salted Peanut...</td>\n",
       "    </tr>\n",
       "    <tr>\n",
       "      <th>2</th>\n",
       "      <td>3</td>\n",
       "      <td>B000LQOCH0</td>\n",
       "      <td>ABXLMWJIXXAIN</td>\n",
       "      <td>Natalia Corres \"Natalia Corres\"</td>\n",
       "      <td>1</td>\n",
       "      <td>1</td>\n",
       "      <td>4</td>\n",
       "      <td>1219017600</td>\n",
       "      <td>\"Delight\" says it all</td>\n",
       "      <td>This is a confection that has been around a fe...</td>\n",
       "    </tr>\n",
       "    <tr>\n",
       "      <th>3</th>\n",
       "      <td>4</td>\n",
       "      <td>B000UA0QIQ</td>\n",
       "      <td>A395BORC6FGVXV</td>\n",
       "      <td>Karl</td>\n",
       "      <td>3</td>\n",
       "      <td>3</td>\n",
       "      <td>2</td>\n",
       "      <td>1307923200</td>\n",
       "      <td>Cough Medicine</td>\n",
       "      <td>If you are looking for the secret ingredient i...</td>\n",
       "    </tr>\n",
       "    <tr>\n",
       "      <th>4</th>\n",
       "      <td>5</td>\n",
       "      <td>B006K2ZZ7K</td>\n",
       "      <td>A1UQRSCLF8GW1T</td>\n",
       "      <td>Michael D. Bigham \"M. Wassir\"</td>\n",
       "      <td>0</td>\n",
       "      <td>0</td>\n",
       "      <td>5</td>\n",
       "      <td>1350777600</td>\n",
       "      <td>Great taffy</td>\n",
       "      <td>Great taffy at a great price.  There was a wid...</td>\n",
       "    </tr>\n",
       "  </tbody>\n",
       "</table>\n",
       "</div>"
      ],
      "text/plain": [
       "   Id   ProductId          UserId                      ProfileName  \\\n",
       "0   1  B001E4KFG0  A3SGXH7AUHU8GW                       delmartian   \n",
       "1   2  B00813GRG4  A1D87F6ZCVE5NK                           dll pa   \n",
       "2   3  B000LQOCH0   ABXLMWJIXXAIN  Natalia Corres \"Natalia Corres\"   \n",
       "3   4  B000UA0QIQ  A395BORC6FGVXV                             Karl   \n",
       "4   5  B006K2ZZ7K  A1UQRSCLF8GW1T    Michael D. Bigham \"M. Wassir\"   \n",
       "\n",
       "   HelpfulnessNumerator  HelpfulnessDenominator  Score        Time  \\\n",
       "0                     1                       1      5  1303862400   \n",
       "1                     0                       0      1  1346976000   \n",
       "2                     1                       1      4  1219017600   \n",
       "3                     3                       3      2  1307923200   \n",
       "4                     0                       0      5  1350777600   \n",
       "\n",
       "                 Summary                                               Text  \n",
       "0  Good Quality Dog Food  I have bought several of the Vitality canned d...  \n",
       "1      Not as Advertised  Product arrived labeled as Jumbo Salted Peanut...  \n",
       "2  \"Delight\" says it all  This is a confection that has been around a fe...  \n",
       "3         Cough Medicine  If you are looking for the secret ingredient i...  \n",
       "4            Great taffy  Great taffy at a great price.  There was a wid...  "
      ]
     },
     "execution_count": 2,
     "metadata": {},
     "output_type": "execute_result"
    }
   ],
   "source": [
    "# Loading the dataset\n",
    "con = sqlite3.connect('database.sqlite')\n",
    "\n",
    "Act_data = pd.read_sql_query(\"\"\" SELECT * FROM Reviews WHERE Score != 3 LIMIT 100000\"\"\", con)\n",
    "\n",
    "print(\"Actual Shape of data:\",Act_data.shape)\n",
    "#Structure of 5 rows of data\n",
    "Act_data.head()"
   ]
  },
  {
   "cell_type": "markdown",
   "metadata": {},
   "source": [
    "# Data Cleaning"
   ]
  },
  {
   "cell_type": "code",
   "execution_count": 3,
   "metadata": {},
   "outputs": [
    {
     "data": {
      "text/html": [
       "<div>\n",
       "<style scoped>\n",
       "    .dataframe tbody tr th:only-of-type {\n",
       "        vertical-align: middle;\n",
       "    }\n",
       "\n",
       "    .dataframe tbody tr th {\n",
       "        vertical-align: top;\n",
       "    }\n",
       "\n",
       "    .dataframe thead th {\n",
       "        text-align: right;\n",
       "    }\n",
       "</style>\n",
       "<table border=\"1\" class=\"dataframe\">\n",
       "  <thead>\n",
       "    <tr style=\"text-align: right;\">\n",
       "      <th></th>\n",
       "      <th>Id</th>\n",
       "      <th>HelpfulnessNumerator</th>\n",
       "      <th>HelpfulnessDenominator</th>\n",
       "      <th>Score</th>\n",
       "      <th>Time</th>\n",
       "    </tr>\n",
       "  </thead>\n",
       "  <tbody>\n",
       "    <tr>\n",
       "      <th>count</th>\n",
       "      <td>100000.000000</td>\n",
       "      <td>100000.000000</td>\n",
       "      <td>100000.000000</td>\n",
       "      <td>100000.000000</td>\n",
       "      <td>1.000000e+05</td>\n",
       "    </tr>\n",
       "    <tr>\n",
       "      <th>mean</th>\n",
       "      <td>54380.301200</td>\n",
       "      <td>1.645130</td>\n",
       "      <td>2.106580</td>\n",
       "      <td>4.256390</td>\n",
       "      <td>1.296128e+09</td>\n",
       "    </tr>\n",
       "    <tr>\n",
       "      <th>std</th>\n",
       "      <td>31372.425622</td>\n",
       "      <td>6.212261</td>\n",
       "      <td>6.832594</td>\n",
       "      <td>1.329395</td>\n",
       "      <td>4.781070e+07</td>\n",
       "    </tr>\n",
       "    <tr>\n",
       "      <th>min</th>\n",
       "      <td>1.000000</td>\n",
       "      <td>0.000000</td>\n",
       "      <td>0.000000</td>\n",
       "      <td>1.000000</td>\n",
       "      <td>9.486720e+08</td>\n",
       "    </tr>\n",
       "    <tr>\n",
       "      <th>25%</th>\n",
       "      <td>27298.750000</td>\n",
       "      <td>0.000000</td>\n",
       "      <td>0.000000</td>\n",
       "      <td>4.000000</td>\n",
       "      <td>1.270512e+09</td>\n",
       "    </tr>\n",
       "    <tr>\n",
       "      <th>50%</th>\n",
       "      <td>54294.500000</td>\n",
       "      <td>0.000000</td>\n",
       "      <td>1.000000</td>\n",
       "      <td>5.000000</td>\n",
       "      <td>1.311379e+09</td>\n",
       "    </tr>\n",
       "    <tr>\n",
       "      <th>75%</th>\n",
       "      <td>81583.250000</td>\n",
       "      <td>2.000000</td>\n",
       "      <td>2.000000</td>\n",
       "      <td>5.000000</td>\n",
       "      <td>1.332547e+09</td>\n",
       "    </tr>\n",
       "    <tr>\n",
       "      <th>max</th>\n",
       "      <td>108623.000000</td>\n",
       "      <td>559.000000</td>\n",
       "      <td>562.000000</td>\n",
       "      <td>5.000000</td>\n",
       "      <td>1.351210e+09</td>\n",
       "    </tr>\n",
       "  </tbody>\n",
       "</table>\n",
       "</div>"
      ],
      "text/plain": [
       "                  Id  HelpfulnessNumerator  HelpfulnessDenominator  \\\n",
       "count  100000.000000         100000.000000           100000.000000   \n",
       "mean    54380.301200              1.645130                2.106580   \n",
       "std     31372.425622              6.212261                6.832594   \n",
       "min         1.000000              0.000000                0.000000   \n",
       "25%     27298.750000              0.000000                0.000000   \n",
       "50%     54294.500000              0.000000                1.000000   \n",
       "75%     81583.250000              2.000000                2.000000   \n",
       "max    108623.000000            559.000000              562.000000   \n",
       "\n",
       "               Score          Time  \n",
       "count  100000.000000  1.000000e+05  \n",
       "mean        4.256390  1.296128e+09  \n",
       "std         1.329395  4.781070e+07  \n",
       "min         1.000000  9.486720e+08  \n",
       "25%         4.000000  1.270512e+09  \n",
       "50%         5.000000  1.311379e+09  \n",
       "75%         5.000000  1.332547e+09  \n",
       "max         5.000000  1.351210e+09  "
      ]
     },
     "execution_count": 3,
     "metadata": {},
     "output_type": "execute_result"
    }
   ],
   "source": [
    "Act_data.describe()"
   ]
  },
  {
   "cell_type": "code",
   "execution_count": 4,
   "metadata": {},
   "outputs": [
    {
     "data": {
      "text/plain": [
       "(100000, 10)"
      ]
     },
     "execution_count": 4,
     "metadata": {},
     "output_type": "execute_result"
    }
   ],
   "source": [
    "# Removing the data for which score is not equal to 3 \n",
    "Act_data = Act_data[Act_data['Score'] != 3]\n",
    "Act_data.shape"
   ]
  },
  {
   "cell_type": "code",
   "execution_count": 5,
   "metadata": {},
   "outputs": [],
   "source": [
    "#Sampled amazon fine foood reviews filtered data to 30k datapoints for time effiecieny\n",
    "sample_act_data = Act_data.head(50000)\n",
    "sample_act_data['Score'] = ['Positive' if (int(score)>3) else 'Negative' for score in sample_act_data['Score']]"
   ]
  },
  {
   "cell_type": "code",
   "execution_count": 6,
   "metadata": {},
   "outputs": [
    {
     "data": {
      "text/html": [
       "<div>\n",
       "<style scoped>\n",
       "    .dataframe tbody tr th:only-of-type {\n",
       "        vertical-align: middle;\n",
       "    }\n",
       "\n",
       "    .dataframe tbody tr th {\n",
       "        vertical-align: top;\n",
       "    }\n",
       "\n",
       "    .dataframe thead th {\n",
       "        text-align: right;\n",
       "    }\n",
       "</style>\n",
       "<table border=\"1\" class=\"dataframe\">\n",
       "  <thead>\n",
       "    <tr style=\"text-align: right;\">\n",
       "      <th></th>\n",
       "      <th>Id</th>\n",
       "      <th>ProductId</th>\n",
       "      <th>UserId</th>\n",
       "      <th>ProfileName</th>\n",
       "      <th>HelpfulnessNumerator</th>\n",
       "      <th>HelpfulnessDenominator</th>\n",
       "      <th>Score</th>\n",
       "      <th>Time</th>\n",
       "      <th>Summary</th>\n",
       "      <th>Text</th>\n",
       "    </tr>\n",
       "  </thead>\n",
       "  <tbody>\n",
       "    <tr>\n",
       "      <th>0</th>\n",
       "      <td>1</td>\n",
       "      <td>B001E4KFG0</td>\n",
       "      <td>A3SGXH7AUHU8GW</td>\n",
       "      <td>delmartian</td>\n",
       "      <td>1</td>\n",
       "      <td>1</td>\n",
       "      <td>Positive</td>\n",
       "      <td>1303862400</td>\n",
       "      <td>Good Quality Dog Food</td>\n",
       "      <td>I have bought several of the Vitality canned d...</td>\n",
       "    </tr>\n",
       "    <tr>\n",
       "      <th>1</th>\n",
       "      <td>2</td>\n",
       "      <td>B00813GRG4</td>\n",
       "      <td>A1D87F6ZCVE5NK</td>\n",
       "      <td>dll pa</td>\n",
       "      <td>0</td>\n",
       "      <td>0</td>\n",
       "      <td>Negative</td>\n",
       "      <td>1346976000</td>\n",
       "      <td>Not as Advertised</td>\n",
       "      <td>Product arrived labeled as Jumbo Salted Peanut...</td>\n",
       "    </tr>\n",
       "    <tr>\n",
       "      <th>2</th>\n",
       "      <td>3</td>\n",
       "      <td>B000LQOCH0</td>\n",
       "      <td>ABXLMWJIXXAIN</td>\n",
       "      <td>Natalia Corres \"Natalia Corres\"</td>\n",
       "      <td>1</td>\n",
       "      <td>1</td>\n",
       "      <td>Positive</td>\n",
       "      <td>1219017600</td>\n",
       "      <td>\"Delight\" says it all</td>\n",
       "      <td>This is a confection that has been around a fe...</td>\n",
       "    </tr>\n",
       "    <tr>\n",
       "      <th>3</th>\n",
       "      <td>4</td>\n",
       "      <td>B000UA0QIQ</td>\n",
       "      <td>A395BORC6FGVXV</td>\n",
       "      <td>Karl</td>\n",
       "      <td>3</td>\n",
       "      <td>3</td>\n",
       "      <td>Negative</td>\n",
       "      <td>1307923200</td>\n",
       "      <td>Cough Medicine</td>\n",
       "      <td>If you are looking for the secret ingredient i...</td>\n",
       "    </tr>\n",
       "    <tr>\n",
       "      <th>4</th>\n",
       "      <td>5</td>\n",
       "      <td>B006K2ZZ7K</td>\n",
       "      <td>A1UQRSCLF8GW1T</td>\n",
       "      <td>Michael D. Bigham \"M. Wassir\"</td>\n",
       "      <td>0</td>\n",
       "      <td>0</td>\n",
       "      <td>Positive</td>\n",
       "      <td>1350777600</td>\n",
       "      <td>Great taffy</td>\n",
       "      <td>Great taffy at a great price.  There was a wid...</td>\n",
       "    </tr>\n",
       "  </tbody>\n",
       "</table>\n",
       "</div>"
      ],
      "text/plain": [
       "   Id   ProductId          UserId                      ProfileName  \\\n",
       "0   1  B001E4KFG0  A3SGXH7AUHU8GW                       delmartian   \n",
       "1   2  B00813GRG4  A1D87F6ZCVE5NK                           dll pa   \n",
       "2   3  B000LQOCH0   ABXLMWJIXXAIN  Natalia Corres \"Natalia Corres\"   \n",
       "3   4  B000UA0QIQ  A395BORC6FGVXV                             Karl   \n",
       "4   5  B006K2ZZ7K  A1UQRSCLF8GW1T    Michael D. Bigham \"M. Wassir\"   \n",
       "\n",
       "   HelpfulnessNumerator  HelpfulnessDenominator     Score        Time  \\\n",
       "0                     1                       1  Positive  1303862400   \n",
       "1                     0                       0  Negative  1346976000   \n",
       "2                     1                       1  Positive  1219017600   \n",
       "3                     3                       3  Negative  1307923200   \n",
       "4                     0                       0  Positive  1350777600   \n",
       "\n",
       "                 Summary                                               Text  \n",
       "0  Good Quality Dog Food  I have bought several of the Vitality canned d...  \n",
       "1      Not as Advertised  Product arrived labeled as Jumbo Salted Peanut...  \n",
       "2  \"Delight\" says it all  This is a confection that has been around a fe...  \n",
       "3         Cough Medicine  If you are looking for the secret ingredient i...  \n",
       "4            Great taffy  Great taffy at a great price.  There was a wid...  "
      ]
     },
     "execution_count": 6,
     "metadata": {},
     "output_type": "execute_result"
    }
   ],
   "source": [
    "sample_act_data.head()"
   ]
  },
  {
   "cell_type": "code",
   "execution_count": 7,
   "metadata": {},
   "outputs": [],
   "source": [
    "#Sorting the data and deleting the duplicate records\n",
    "sorted_data = sample_act_data.sort_values('ProductId', ascending=True, inplace=False, kind='quicksort', na_position='last')\n",
    "\n",
    "final_data = sample_act_data.drop_duplicates(subset = {'UserId','ProfileName','Time','Text'}, keep='first', inplace=False)\n"
   ]
  },
  {
   "cell_type": "code",
   "execution_count": 8,
   "metadata": {},
   "outputs": [],
   "source": [
    "final_data['Score'] = [1 if score == 'Positive' else 0 for score in final_data['Score']]\n",
    "final_data.sort_values('Time', inplace = True)"
   ]
  },
  {
   "cell_type": "code",
   "execution_count": 9,
   "metadata": {},
   "outputs": [],
   "source": [
    "text = final_data['Text']\n",
    "score = final_data['Score']"
   ]
  },
  {
   "cell_type": "markdown",
   "metadata": {},
   "source": [
    "# Data Preprocessing "
   ]
  },
  {
   "cell_type": "markdown",
   "metadata": {},
   "source": [
    "# Methods used in Preprocessing\n",
    "\n",
    "    1.Stop words removal\n",
    "    2.Removal of HTML tags\n",
    "    3.Stemming using porter stemming - removing affixes from words\n",
    "    4.Tokenizing - Splitting sentences and words from the body of text\n",
    "    5.Lemmatization - synonym or a different word with the same meaning\n",
    "\n"
   ]
  },
  {
   "cell_type": "code",
   "execution_count": 10,
   "metadata": {},
   "outputs": [
    {
     "name": "stderr",
     "output_type": "stream",
     "text": [
      "[nltk_data] Downloading package stopwords to\n",
      "[nltk_data]     /home/kirankumar_yeddala/nltk_data...\n",
      "[nltk_data]   Package stopwords is already up-to-date!\n"
     ]
    }
   ],
   "source": [
    "nltk.download('stopwords')\n",
    "#set of stop words\n",
    "stop = set(stopwords.words('english'))\n",
    "\n",
    "#Initializing snowball stemmer\n",
    "snow_stem = nltk.stem.SnowballStemmer('english')\n",
    "\n",
    "#function to clean the word of any html-tags\n",
    "def cleanhtml(sentence): \n",
    "    cleanr = re.compile('<.*?>')\n",
    "    cleantext = re.sub(cleanr, ' ', sentence)\n",
    "    return cleantext\n",
    "\n",
    "#function to clean the word of any punctuation or special characters\n",
    "def cleanpunc(sentence): \n",
    "    cleaned = re.sub(r'[?|!|\\'|\"|#]',r'',sentence)\n",
    "    cleaned = re.sub(r'[.|,|)|(|\\|/]',r' ',cleaned)\n",
    "    return  cleaned"
   ]
  },
  {
   "cell_type": "code",
   "execution_count": 11,
   "metadata": {},
   "outputs": [],
   "source": [
    "#Preprocessing the text like cleaning HTML tags, removal of stopwords, punctuations removal...\n",
    "Preproc_text = []\n",
    "cleanedtext = []\n",
    "for sent in final_data['Text']:\n",
    "    row_text=[]\n",
    "    sent = cleanhtml(sent)\n",
    "    for words in sent.split():\n",
    "        clean_word = cleanpunc(words)\n",
    "        if (clean_word.isalpha()) & (len(clean_word)>2):\n",
    "            if(clean_word.lower() is not stop):\n",
    "                finalword = (snow_stem.stem(clean_word.lower()).encode('utf8'))\n",
    "                row_text.append(finalword)\n",
    "            else:\n",
    "                continue\n",
    "        else:\n",
    "            continue\n",
    "        \n",
    "    Preproc_text.append( b' '.join(row_text).decode('utf8'))\n"
   ]
  },
  {
   "cell_type": "code",
   "execution_count": 12,
   "metadata": {},
   "outputs": [],
   "source": [
    "#Splitting the data into train and test data\n",
    "text_train, text_test, score_train, score_test = train_test_split(Preproc_text,score, test_size=0.3, \n",
    "                                                                  stratify=None, random_state=0)\n",
    "\n"
   ]
  },
  {
   "cell_type": "code",
   "execution_count": 13,
   "metadata": {},
   "outputs": [],
   "source": [
    "Preproc_text_kdtree = Preproc_text[0:20000]\n",
    "score_kdtree = score[0:20000]\n",
    "text_train_kd, text_test_kd, score_train_kd, score_test_kd = train_test_split(Preproc_text_kdtree,score_kdtree, test_size=0.3, \n",
    "                                                                  stratify=None, random_state=0)"
   ]
  },
  {
   "cell_type": "markdown",
   "metadata": {},
   "source": [
    "# BOW"
   ]
  },
  {
   "cell_type": "code",
   "execution_count": 14,
   "metadata": {},
   "outputs": [],
   "source": [
    "#Converting the cleaned text to sparse matrix\n",
    "count_vec = CountVectorizer()\n",
    "bow_train = count_vec.fit_transform(text_train)"
   ]
  },
  {
   "cell_type": "code",
   "execution_count": 15,
   "metadata": {},
   "outputs": [],
   "source": [
    "bow_test = count_vec.transform(text_test)"
   ]
  },
  {
   "cell_type": "code",
   "execution_count": 16,
   "metadata": {},
   "outputs": [
    {
     "name": "stdout",
     "output_type": "stream",
     "text": [
      "(32250, 18799)\n",
      "(13822, 18799)\n"
     ]
    }
   ],
   "source": [
    "#standardization of data\n",
    "std_data_train = MaxAbsScaler().fit_transform(bow_train)\n",
    "std_data_test = MaxAbsScaler().fit_transform(bow_test)\n",
    "print(std_data_train.shape)\n",
    "print(std_data_test.shape)"
   ]
  },
  {
   "cell_type": "markdown",
   "metadata": {},
   "source": [
    "BOW(Brute force)"
   ]
  },
  {
   "cell_type": "code",
   "execution_count": 17,
   "metadata": {},
   "outputs": [
    {
     "name": "stderr",
     "output_type": "stream",
     "text": [
      "100%|██████████| 25/25 [30:58<00:00, 74.76s/it]\n"
     ]
    },
    {
     "name": "stdout",
     "output_type": "stream",
     "text": [
      "\n",
      "The optimal number of neighbors is 49.\n"
     ]
    },
    {
     "data": {
      "image/png": "[encoded data removed]",
      "text/plain": [
       "<Figure size 720x432 with 1 Axes>"
      ]
     },
     "metadata": {},
     "output_type": "display_data"
    }
   ],
   "source": [
    "# creating odd list of K for KNN\n",
    "myList = list(range(0,50))\n",
    "neighbors = list(filter(lambda x: x % 2 != 0, myList))\n",
    "# empty list that will hold cv scores\n",
    "cv_scores = []\n",
    "# perform 10-fold cross validation\n",
    "for k in tqdm(neighbors):\n",
    "    knn = KNeighborsClassifier(n_neighbors=k,algorithm='brute', n_jobs=-1)\n",
    "    scores = cross_val_score(knn, std_data_train, score_train, cv=10, scoring='roc_auc')\n",
    "    cv_scores.append(scores.mean())\n",
    "# changing to misclassification error\n",
    "MSE = [1 - x for x in cv_scores]\n",
    "\n",
    "# determining best k\n",
    "optimal_k = neighbors[MSE.index(min(MSE))]\n",
    "plt.figure(figsize=(10,6))\n",
    "plt.xlabel('K in KNN')\n",
    "plt.ylabel('Misclassification Error')\n",
    "plt.plot(neighbors, MSE, marker='o',markerfacecolor='green', markersize=10)\n",
    "print('\\nThe optimal number of neighbors is %d.' % optimal_k)"
   ]
  },
  {
   "cell_type": "code",
   "execution_count": 18,
   "metadata": {},
   "outputs": [
    {
     "name": "stdout",
     "output_type": "stream",
     "text": [
      "\n",
      "The accuracy of the knn classifier for k = 49 is 83.417740%\n"
     ]
    },
    {
     "data": {
      "image/png": "[encoded data removed]",
      "text/plain": [
       "<Figure size 432x288 with 2 Axes>"
      ]
     },
     "metadata": {},
     "output_type": "display_data"
    }
   ],
   "source": [
    "#learning the model k = optimal_k\n",
    "knn_optimal = KNeighborsClassifier(n_neighbors=optimal_k)\n",
    "\n",
    "# fitting the model\n",
    "knn_optimal.fit(std_data_train, score_train)\n",
    "\n",
    "# predict on the test response\n",
    "pred = knn_optimal.predict(std_data_test)\n",
    "\n",
    "# evaluate accuracy on test data\n",
    "acc = accuracy_score(score_test, pred) * 100\n",
    "\n",
    "print('\\nThe accuracy of the knn classifier for k = %d is %f%%' % (optimal_k, acc))\n",
    "\n",
    "cm = confusion_matrix(score_test, pred)\n",
    "class_label = ['Negative', 'Positive']\n",
    "conf_matrix = pd.DataFrame(cm, index=class_label, columns=class_label)\n",
    "sns.heatmap(conf_matrix, annot=True, fmt='d')\n",
    "plt.ylabel('Actual Values')\n",
    "plt.xlabel('Precited Values')\n",
    "plt.show()\n"
   ]
  },
  {
   "cell_type": "markdown",
   "metadata": {},
   "source": [
    "BOW(Kd Tree) "
   ]
  },
  {
   "cell_type": "code",
   "execution_count": 19,
   "metadata": {},
   "outputs": [],
   "source": [
    "count_vec = CountVectorizer()\n",
    "bow_train_kd = count_vec.fit_transform(text_train_kd)\n",
    "bow_test_kd = count_vec.transform(text_test_kd)"
   ]
  },
  {
   "cell_type": "code",
   "execution_count": 20,
   "metadata": {},
   "outputs": [
    {
     "name": "stdout",
     "output_type": "stream",
     "text": [
      "(14000, 13139)\n",
      "(6000, 13139)\n"
     ]
    }
   ],
   "source": [
    "std_data_train_kd = MaxAbsScaler().fit_transform(bow_train_kd)\n",
    "std_data_test_kd = MaxAbsScaler().fit_transform(bow_test_kd)\n",
    "print(std_data_train_kd.shape)\n",
    "print(std_data_test_kd.shape)"
   ]
  },
  {
   "cell_type": "code",
   "execution_count": 21,
   "metadata": {},
   "outputs": [],
   "source": [
    "# Converting sparse matrix to dense matrix\n",
    "svd = TruncatedSVD(n_components=400)\n",
    "std_train_kd = svd.fit_transform(std_data_train_kd)\n",
    "std_test_kd = svd.transform(std_data_test_kd)"
   ]
  },
  {
   "cell_type": "code",
   "execution_count": 22,
   "metadata": {},
   "outputs": [
    {
     "name": "stdout",
     "output_type": "stream",
     "text": [
      "(14000, 400)\n",
      "(6000, 400)\n"
     ]
    }
   ],
   "source": [
    "print(std_train_kd.shape)\n",
    "print(std_test_kd.shape)"
   ]
  },
  {
   "cell_type": "code",
   "execution_count": 23,
   "metadata": {},
   "outputs": [
    {
     "name": "stderr",
     "output_type": "stream",
     "text": [
      "100%|██████████| 25/25 [18:04<00:00, 43.19s/it]"
     ]
    },
    {
     "name": "stdout",
     "output_type": "stream",
     "text": [
      "\n",
      "The optimal number of neighbors is 49.\n"
     ]
    },
    {
     "name": "stderr",
     "output_type": "stream",
     "text": [
      "\n"
     ]
    },
    {
     "data": {
      "image/png": "[encoded data removed]",
      "text/plain": [
       "<Figure size 720x432 with 1 Axes>"
      ]
     },
     "metadata": {},
     "output_type": "display_data"
    }
   ],
   "source": [
    "myList = list(range(0,50))\n",
    "neighbors = list(filter(lambda x: x % 2 != 0, myList))\n",
    "# empty list that will hold cv scores\n",
    "cv_scores = []\n",
    "# perform 10-fold cross validation\n",
    "for k in tqdm(neighbors):\n",
    "    knn = KNeighborsClassifier(n_neighbors=k,algorithm='kd_tree', n_jobs=-1)\n",
    "    scores = cross_val_score(knn, std_train_kd, score_train_kd, cv=5, scoring='roc_auc')\n",
    "    cv_scores.append(scores.mean())\n",
    "# changing to misclassification error\n",
    "MSE = [1 - x for x in cv_scores]\n",
    "\n",
    "# determining best k\n",
    "optimal_k = neighbors[MSE.index(min(MSE))]\n",
    "plt.figure(figsize=(10,6))\n",
    "plt.xlabel('K in KNN')\n",
    "plt.ylabel('Misclassification Error')\n",
    "plt.plot(neighbors, MSE, marker='o',markerfacecolor='green', markersize=10)\n",
    "print('\\nThe optimal number of neighbors is %d.' % optimal_k)"
   ]
  },
  {
   "cell_type": "code",
   "execution_count": 24,
   "metadata": {},
   "outputs": [
    {
     "name": "stdout",
     "output_type": "stream",
     "text": [
      "\n",
      "The accuracy of the knn classifier for k = 49 is 85.750000%\n"
     ]
    },
    {
     "data": {
      "image/png": "[encoded data removed]",
      "text/plain": [
       "<Figure size 432x288 with 2 Axes>"
      ]
     },
     "metadata": {},
     "output_type": "display_data"
    }
   ],
   "source": [
    "#learning the model k = optimal_k\n",
    "knn_optimal = KNeighborsClassifier(n_neighbors=optimal_k)\n",
    "\n",
    "# fitting the model\n",
    "knn_optimal.fit(std_train_kd, score_train_kd)\n",
    "\n",
    "# predict on the test response\n",
    "pred = knn_optimal.predict(std_test_kd)\n",
    "\n",
    "# evaluate accuracy on test data\n",
    "acc = accuracy_score(score_test_kd, pred) * 100\n",
    "\n",
    "print('\\nThe accuracy of the knn classifier for k = %d is %f%%' % (optimal_k, acc))\n",
    "\n",
    "cm = confusion_matrix(score_test_kd, pred)\n",
    "class_label = ['Negative', 'Positive']\n",
    "conf_matrix = pd.DataFrame(cm, index=class_label, columns=class_label)\n",
    "sns.heatmap(conf_matrix, annot=True, fmt='d')\n",
    "plt.ylabel('Actual Values')\n",
    "plt.xlabel('Precited Values')\n",
    "plt.show()\n"
   ]
  },
  {
   "cell_type": "code",
   "execution_count": 26,
   "metadata": {},
   "outputs": [
    {
     "name": "stdout",
     "output_type": "stream",
     "text": [
      "[0.05441594 0.06507291 0.07518583 0.08441794 0.09324283 0.10172182\n",
      " 0.10979264 0.11763786 0.12469015 0.13170914 0.13853149 0.14496861\n",
      " 0.1513233  0.1576704  0.1639585  0.17006192 0.17597223 0.18173983\n",
      " 0.18746536 0.19306584 0.19856422 0.20396899 0.20932946 0.21457541\n",
      " 0.21979407 0.22489887 0.22995916 0.2349943  0.23998368 0.24491287\n",
      " 0.2497348  0.25450393 0.25923458 0.26392355 0.26857048 0.27317335\n",
      " 0.27774806 0.28226506 0.28674704 0.29121171 0.2956173  0.29999412\n",
      " 0.30435442 0.30865666 0.31292847 0.31717706 0.32139928 0.32560881\n",
      " 0.32980513 0.33395602 0.33808582 0.3421962  0.34626446 0.35031513\n",
      " 0.35435883 0.35837927 0.36238667 0.36635898 0.37030777 0.37423988\n",
      " 0.37813264 0.38201759 0.3858726  0.38970016 0.39351577 0.39731451\n",
      " 0.4010982  0.40484854 0.40858749 0.41230325 0.41601769 0.41970792\n",
      " 0.42338132 0.42704365 0.43068102 0.43431111 0.43791043 0.44150309\n",
      " 0.44507779 0.44862754 0.45216215 0.45568474 0.45920405 0.46269053\n",
      " 0.46615496 0.46961112 0.47304749 0.47648033 0.47989152 0.48329938\n",
      " 0.48668671 0.49006406 0.49343487 0.49677265 0.50008671 0.50339137\n",
      " 0.5066893  0.50998006 0.51325954 0.51653458 0.51979557 0.52304656\n",
      " 0.52628187 0.52950191 0.53271116 0.53590173 0.53908658 0.54225817\n",
      " 0.54540686 0.54854611 0.55166457 0.55477591 0.55787532 0.56096635\n",
      " 0.56404817 0.56711773 0.5701779  0.57322679 0.57627085 0.57930273\n",
      " 0.58232517 0.58533999 0.58834509 0.59134766 0.59433736 0.5973161\n",
      " 0.60028591 0.60324386 0.6061967  0.60913821 0.6120603  0.61497292\n",
      " 0.61788302 0.62077876 0.62367219 0.62655969 0.62942809 0.63229082\n",
      " 0.63512892 0.63796329 0.6407946  0.64361692 0.6464321  0.64924074\n",
      " 0.6520423  0.65483366 0.65761895 0.66039254 0.66316241 0.66591497\n",
      " 0.66866077 0.67139724 0.67413293 0.67686064 0.67957447 0.68227452\n",
      " 0.68496392 0.68765071 0.69032882 0.69299715 0.69565613 0.69830775\n",
      " 0.70095781 0.70359865 0.70623494 0.70885624 0.71147425 0.71408422\n",
      " 0.71668152 0.71926193 0.72183714 0.72440277 0.7269646  0.72952006\n",
      " 0.73207447 0.73461915 0.73715562 0.73969071 0.7422155  0.74473367\n",
      " 0.74724831 0.74974853 0.7522427  0.75472865 0.75719999 0.75966421\n",
      " 0.76212627 0.76457824 0.76702794 0.76946917 0.77190916 0.77434102\n",
      " 0.77676267 0.77918007 0.78159445 0.78399615 0.78639037 0.78877573\n",
      " 0.79115714 0.79353195 0.79590482 0.79826307 0.80061707 0.80296833\n",
      " 0.80530529 0.8076368  0.8099632  0.81228257 0.81459472 0.81690151\n",
      " 0.81919616 0.82148606 0.82377347 0.82605965 0.82833848 0.83061378\n",
      " 0.83287948 0.83513719 0.83738818 0.83963067 0.84187189 0.84410544\n",
      " 0.84633316 0.8485519  0.85077037 0.85297918 0.85518035 0.85737506\n",
      " 0.85956842 0.86175519 0.86393588 0.86611278 0.86828359 0.87044451\n",
      " 0.87260238 0.87475607 0.87689792 0.87903173 0.88116096 0.88328379\n",
      " 0.88539525 0.88750288 0.88960722 0.89170753 0.89380704 0.89589365\n",
      " 0.8979778  0.90006067 0.90213504 0.90420513 0.90626848 0.90832426\n",
      " 0.91037122 0.91241757 0.91445662 0.91649103 0.91851702 0.92053874\n",
      " 0.92255781 0.92457499 0.92658716 0.92859083 0.93058437 0.93257128\n",
      " 0.93455526 0.93653219 0.93850438 0.94046675 0.94242135 0.94437294\n",
      " 0.94631612 0.94825067 0.95017944 0.95210278 0.95402384 0.95593928\n",
      " 0.95784996 0.95975741 0.96165682 0.96354962 0.96542962 0.96730308\n",
      " 0.96917236 0.97103565 0.97289061 0.97474442 0.97659464 0.97843544\n",
      " 0.98026876 0.98209828 0.98392062 0.98574148 0.98755085 0.98935332\n",
      " 0.99114701 0.99292884 0.99470806 0.9964802  0.9982416  1.        ]\n"
     ]
    },
    {
     "data": {
      "image/png": "[encoded data removed]",
      "text/plain": [
       "<Figure size 432x288 with 1 Axes>"
      ]
     },
     "metadata": {},
     "output_type": "display_data"
    }
   ],
   "source": [
    "from sklearn import decomposition\n",
    "pca = decomposition.PCA()\n",
    "# PCA for dimensionality redcution (non-visualization)\n",
    "\n",
    "pca.n_components = 300\n",
    "pca_data = pca.fit_transform(std_train_kd)\n",
    "\n",
    "# Calculating the cummulative sum of variances\n",
    "percentage_var_explained = pca.explained_variance_ / np.sum(pca.explained_variance_);\n",
    "cum_var = np.cumsum(percentage_var_explained)\n",
    "print(cum_var)\n",
    "\n",
    "# Plot the PCA spectrum\n",
    "plt.plot(cum_var, linewidth=2)\n",
    "plt.axis('tight')\n",
    "plt.grid()\n",
    "plt.xlabel('n_components')\n",
    "plt.ylabel('Cumulative_explained_variance')\n",
    "plt.show()"
   ]
  },
  {
   "cell_type": "markdown",
   "metadata": {},
   "source": [
    "# TFIDF"
   ]
  },
  {
   "cell_type": "code",
   "execution_count": 27,
   "metadata": {},
   "outputs": [],
   "source": [
    "tfidf_vect = TfidfVectorizer(ngram_range=(1,2))"
   ]
  },
  {
   "cell_type": "code",
   "execution_count": 28,
   "metadata": {},
   "outputs": [],
   "source": [
    "tfidf_train = tfidf_vect.fit_transform(text_train)\n",
    "tfidf_test = tfidf_vect.transform(text_test)"
   ]
  },
  {
   "cell_type": "code",
   "execution_count": 29,
   "metadata": {},
   "outputs": [
    {
     "name": "stdout",
     "output_type": "stream",
     "text": [
      "(32250, 435712)\n",
      "(13822, 435712)\n"
     ]
    }
   ],
   "source": [
    "#standardization of data\n",
    "std_data_train = MaxAbsScaler().fit_transform(tfidf_train)\n",
    "std_data_test = MaxAbsScaler().fit_transform(tfidf_test)\n",
    "print(std_data_train.shape)\n",
    "print(std_data_test.shape)"
   ]
  },
  {
   "cell_type": "markdown",
   "metadata": {},
   "source": [
    "TFIDF(Brute Force)"
   ]
  },
  {
   "cell_type": "code",
   "execution_count": 30,
   "metadata": {},
   "outputs": [
    {
     "name": "stderr",
     "output_type": "stream",
     "text": [
      "100%|██████████| 25/25 [31:45<00:00, 76.21s/it]"
     ]
    },
    {
     "name": "stdout",
     "output_type": "stream",
     "text": [
      "\n",
      "The optimal number of neighbors is 29.\n"
     ]
    },
    {
     "name": "stderr",
     "output_type": "stream",
     "text": [
      "\n"
     ]
    },
    {
     "data": {
      "image/png": "[encoded data removed]",
      "text/plain": [
       "<Figure size 720x432 with 1 Axes>"
      ]
     },
     "metadata": {},
     "output_type": "display_data"
    }
   ],
   "source": [
    "myList = list(range(0,50))\n",
    "neighbors = list(filter(lambda x: x % 2 != 0, myList))\n",
    "# empty list that will hold cv scores\n",
    "cv_scores = []\n",
    "# perform 10-fold cross validation\n",
    "for k in tqdm(neighbors):\n",
    "    knn = KNeighborsClassifier(n_neighbors=k,algorithm='brute', n_jobs=-1)\n",
    "    scores = cross_val_score(knn, std_data_train, score_train, cv=10, scoring='roc_auc')\n",
    "    cv_scores.append(scores.mean())\n",
    "# changing to misclassification error\n",
    "MSE = [1 - x for x in cv_scores]\n",
    "\n",
    "# determining best k\n",
    "optimal_k = neighbors[MSE.index(min(MSE))]\n",
    "plt.figure(figsize=(10,6))\n",
    "plt.xlabel('K in KNN')\n",
    "plt.ylabel('Misclassification Error')\n",
    "plt.plot(neighbors, MSE, marker='o',markerfacecolor='green', markersize=10)\n",
    "print('\\nThe optimal number of neighbors is %d.' % optimal_k)"
   ]
  },
  {
   "cell_type": "code",
   "execution_count": 31,
   "metadata": {},
   "outputs": [
    {
     "name": "stdout",
     "output_type": "stream",
     "text": [
      "\n",
      "The accuracy of the knn classifier for k = 29 is 83.388800%\n"
     ]
    },
    {
     "data": {
      "image/png": "[encoded data removed]",
      "text/plain": [
       "<Figure size 432x288 with 2 Axes>"
      ]
     },
     "metadata": {},
     "output_type": "display_data"
    }
   ],
   "source": [
    "#learning the model k = optimal_k\n",
    "knn_optimal = KNeighborsClassifier(n_neighbors=optimal_k)\n",
    "\n",
    "# fitting the model\n",
    "knn_optimal.fit(std_data_train, score_train)\n",
    "\n",
    "# predict on the test response\n",
    "pred = knn_optimal.predict(std_data_test)\n",
    "\n",
    "# evaluate accuracy on test data\n",
    "acc = accuracy_score(score_test, pred) * 100\n",
    "\n",
    "print('\\nThe accuracy of the knn classifier for k = %d is %f%%' % (optimal_k, acc))\n",
    "\n",
    "cm = confusion_matrix(score_test, pred)\n",
    "class_label = ['Negative', 'Positive']\n",
    "conf_matrix = pd.DataFrame(cm, index=class_label, columns=class_label)\n",
    "sns.heatmap(conf_matrix, annot=True, fmt='d')\n",
    "plt.ylabel('Actual Values')\n",
    "plt.xlabel('Precited Values')\n",
    "plt.show()"
   ]
  },
  {
   "cell_type": "markdown",
   "metadata": {},
   "source": [
    "TFIDF(Kd tree)"
   ]
  },
  {
   "cell_type": "code",
   "execution_count": 32,
   "metadata": {},
   "outputs": [],
   "source": [
    "tfidf_train_kd = tfidf_vect.fit_transform(text_train_kd)\n",
    "tfidf_test_kd = tfidf_vect.transform(text_test_kd)"
   ]
  },
  {
   "cell_type": "code",
   "execution_count": 33,
   "metadata": {},
   "outputs": [],
   "source": [
    "std_train_kd = MaxAbsScaler().fit_transform(tfidf_train_kd)\n",
    "std_test_kd = MaxAbsScaler().fit_transform(tfidf_test_kd)"
   ]
  },
  {
   "cell_type": "code",
   "execution_count": 34,
   "metadata": {},
   "outputs": [],
   "source": [
    "svd = TruncatedSVD(n_components=400)\n",
    "std_train_kd = svd.fit_transform(std_train_kd)\n",
    "std_test_kd = svd.transform(std_test_kd)"
   ]
  },
  {
   "cell_type": "code",
   "execution_count": 35,
   "metadata": {},
   "outputs": [
    {
     "name": "stderr",
     "output_type": "stream",
     "text": [
      "100%|██████████| 25/25 [17:42<00:00, 41.70s/it]\n"
     ]
    },
    {
     "name": "stdout",
     "output_type": "stream",
     "text": [
      "\n",
      "The optimal number of neighbors is 49.\n"
     ]
    },
    {
     "data": {
      "image/png": "[encoded data removed]",
      "text/plain": [
       "<Figure size 720x432 with 1 Axes>"
      ]
     },
     "metadata": {},
     "output_type": "display_data"
    }
   ],
   "source": [
    "myList = list(range(0,50))\n",
    "neighbors = list(filter(lambda x: x % 2 != 0, myList))\n",
    "# empty list that will hold cv scores\n",
    "cv_scores = []\n",
    "# perform 10-fold cross validation\n",
    "for k in tqdm(neighbors):\n",
    "    knn = KNeighborsClassifier(n_neighbors=k,algorithm='kd_tree', n_jobs=-1)\n",
    "    scores = cross_val_score(knn, std_train_kd, score_train_kd, cv=5, scoring='roc_auc')\n",
    "    cv_scores.append(scores.mean())\n",
    "# changing to misclassification error\n",
    "MSE = [1 - x for x in cv_scores]\n",
    "\n",
    "# determining best k\n",
    "optimal_k = neighbors[MSE.index(min(MSE))]\n",
    "plt.figure(figsize=(10,6))\n",
    "plt.xlabel('K in KNN')\n",
    "plt.ylabel('Misclassification Error')\n",
    "plt.plot(neighbors, MSE, marker='o',markerfacecolor='green', markersize=10)\n",
    "print('\\nThe optimal number of neighbors is %d.' % optimal_k)"
   ]
  },
  {
   "cell_type": "code",
   "execution_count": 36,
   "metadata": {},
   "outputs": [
    {
     "name": "stdout",
     "output_type": "stream",
     "text": [
      "\n",
      "The accuracy of the knn classifier for k = 49 is 85.500000%\n"
     ]
    },
    {
     "data": {
      "image/png": "[encoded data removed]",
      "text/plain": [
       "<Figure size 432x288 with 2 Axes>"
      ]
     },
     "metadata": {},
     "output_type": "display_data"
    }
   ],
   "source": [
    "#learning the model k = optimal_k\n",
    "knn_optimal = KNeighborsClassifier(n_neighbors=optimal_k)\n",
    "\n",
    "# fitting the model\n",
    "knn_optimal.fit(std_train_kd, score_train_kd)\n",
    "\n",
    "# predict on the test response\n",
    "pred = knn_optimal.predict(std_test_kd)\n",
    "\n",
    "# evaluate accuracy on test data\n",
    "acc = accuracy_score(score_test_kd, pred) * 100\n",
    "\n",
    "print('\\nThe accuracy of the knn classifier for k = %d is %f%%' % (optimal_k, acc))\n",
    "\n",
    "cm = confusion_matrix(score_test_kd, pred)\n",
    "class_label = ['Negative', 'Positive']\n",
    "conf_matrix = pd.DataFrame(cm, index=class_label, columns=class_label)\n",
    "sns.heatmap(conf_matrix, annot=True, fmt='d')\n",
    "plt.ylabel('Actual Values')\n",
    "plt.xlabel('Precited Values')\n",
    "plt.show()"
   ]
  },
  {
   "cell_type": "code",
   "execution_count": 37,
   "metadata": {},
   "outputs": [
    {
     "name": "stdout",
     "output_type": "stream",
     "text": [
      "[0.01548655 0.03056439 0.04252109 0.05400658 0.06427073 0.07299479\n",
      " 0.0810848  0.08899008 0.09674921 0.10440736 0.11186325 0.11884\n",
      " 0.12575818 0.13265203 0.13946356 0.14610043 0.15267345 0.15896809\n",
      " 0.16521736 0.17130943 0.1771024  0.18280616 0.18844124 0.19402269\n",
      " 0.19940397 0.20473504 0.20999268 0.21524656 0.2204521  0.22558409\n",
      " 0.23067073 0.23571205 0.24074291 0.24570124 0.25063497 0.25552839\n",
      " 0.2604     0.26523971 0.27003277 0.27480283 0.2795398  0.28418974\n",
      " 0.28874419 0.29328196 0.29780187 0.30226015 0.30665951 0.31101161\n",
      " 0.31531617 0.31959996 0.32386691 0.32803979 0.3322102  0.33633606\n",
      " 0.3404378  0.34451297 0.34857022 0.35261796 0.35660332 0.36056558\n",
      " 0.36450851 0.36842242 0.37230214 0.37617548 0.38003685 0.38388359\n",
      " 0.38768032 0.39147378 0.39524369 0.39899397 0.40272886 0.40643168\n",
      " 0.41012852 0.41380557 0.41747211 0.42111755 0.42473508 0.42834227\n",
      " 0.43194523 0.43554228 0.4390887  0.44262895 0.44616137 0.44965609\n",
      " 0.45312649 0.45659018 0.46003264 0.46346589 0.46689168 0.47031024\n",
      " 0.47370835 0.47709495 0.4804784  0.4838218  0.48716041 0.49048985\n",
      " 0.49379829 0.49709809 0.50037634 0.5036519  0.50691224 0.51015509\n",
      " 0.51338139 0.51660484 0.51981398 0.52300592 0.52619193 0.52935041\n",
      " 0.53250206 0.53564657 0.53878054 0.54188789 0.54498812 0.54807165\n",
      " 0.55115217 0.5542239  0.55727938 0.56032729 0.56336873 0.56640813\n",
      " 0.56943545 0.57245598 0.5754694  0.57847378 0.58146436 0.58444633\n",
      " 0.58742542 0.59039686 0.59336156 0.59631789 0.59926258 0.60220285\n",
      " 0.60513845 0.60806913 0.61098092 0.61388045 0.61676938 0.61965605\n",
      " 0.62252801 0.62539247 0.62824579 0.63109605 0.63393182 0.6367592\n",
      " 0.63958284 0.64239602 0.64520384 0.64799043 0.65077137 0.65354652\n",
      " 0.65631027 0.65906882 0.66182401 0.66456901 0.66730719 0.67003593\n",
      " 0.67276242 0.67548045 0.67819439 0.68090168 0.68360234 0.68629116\n",
      " 0.68897235 0.69164909 0.69432334 0.69699094 0.69964963 0.70229675\n",
      " 0.70493682 0.70756892 0.710192   0.71280765 0.71542088 0.71802692\n",
      " 0.72062862 0.72322234 0.72581562 0.72840116 0.73097823 0.73354907\n",
      " 0.73611651 0.7386758  0.74122853 0.74376985 0.74631042 0.74884241\n",
      " 0.75136786 0.75388162 0.7563908  0.75889067 0.76138742 0.76387676\n",
      " 0.76636039 0.768836   0.77130522 0.77377312 0.77623561 0.77869106\n",
      " 0.78114108 0.78358363 0.78601878 0.78844704 0.79087073 0.79328974\n",
      " 0.79570469 0.79811379 0.80051749 0.80291211 0.80530041 0.80768289\n",
      " 0.81005867 0.81242971 0.81479809 0.81715918 0.81950998 0.82185744\n",
      " 0.82419867 0.8265357  0.82886771 0.83119279 0.83351317 0.8358272\n",
      " 0.83813475 0.84044063 0.84274027 0.84503274 0.84731802 0.8496021\n",
      " 0.85187747 0.85414685 0.85641062 0.85867174 0.86093096 0.86318619\n",
      " 0.86542877 0.86766895 0.86990165 0.87212658 0.87434261 0.87655221\n",
      " 0.87875867 0.88096151 0.88315719 0.88534399 0.88752695 0.88970507\n",
      " 0.89187979 0.89405176 0.89622018 0.89838346 0.90054298 0.90269301\n",
      " 0.90483916 0.90698042 0.9091179  0.91125284 0.91337286 0.91548814\n",
      " 0.91760167 0.91971096 0.92181773 0.92391981 0.92601974 0.928117\n",
      " 0.93020661 0.93228961 0.9343668  0.93644027 0.93850952 0.94057606\n",
      " 0.94263459 0.94468679 0.94673672 0.94878083 0.95081994 0.95285811\n",
      " 0.95488652 0.95691312 0.95893298 0.96094698 0.96295489 0.96495396\n",
      " 0.96694768 0.96894034 0.9709296  0.97290969 0.97488557 0.97685107\n",
      " 0.97881397 0.98077075 0.98272058 0.98466263 0.98660205 0.98853889\n",
      " 0.99046403 0.99237816 0.99429192 0.99620039 0.99810258 1.        ]\n"
     ]
    },
    {
     "data": {
      "image/png": "[encoded data removed]",
      "text/plain": [
       "<Figure size 432x288 with 1 Axes>"
      ]
     },
     "metadata": {},
     "output_type": "display_data"
    }
   ],
   "source": [
    "from sklearn import decomposition\n",
    "pca = decomposition.PCA()\n",
    "# PCA for dimensionality redcution (non-visualization)\n",
    "\n",
    "pca.n_components = 300\n",
    "pca_data = pca.fit_transform(std_train_kd)\n",
    "\n",
    "# Calculating the cummulative sum of variances\n",
    "percentage_var_explained = pca.explained_variance_ / np.sum(pca.explained_variance_);\n",
    "cum_var = np.cumsum(percentage_var_explained)\n",
    "print(cum_var)\n",
    "\n",
    "# Plot the PCA spectrum\n",
    "plt.plot(cum_var, linewidth=2)\n",
    "plt.axis('tight')\n",
    "plt.grid()\n",
    "plt.xlabel('n_components')\n",
    "plt.ylabel('Cumulative_explained_variance')\n",
    "plt.show()"
   ]
  },
  {
   "cell_type": "markdown",
   "metadata": {},
   "source": [
    "# W2V and AvgW2V"
   ]
  },
  {
   "cell_type": "code",
   "execution_count": 38,
   "metadata": {},
   "outputs": [],
   "source": [
    "#Splitting each sentence in to words\n",
    "sent_words = []\n",
    "for sent in Preproc_text:\n",
    "    sent_words.append(sent.split())"
   ]
  },
  {
   "cell_type": "code",
   "execution_count": 39,
   "metadata": {},
   "outputs": [],
   "source": [
    "#Converting each word into vector\n",
    "from gensim.models import Word2Vec\n",
    "w2v = Word2Vec(sent_words,min_count=5,size=50,workers=4)"
   ]
  },
  {
   "cell_type": "code",
   "execution_count": 40,
   "metadata": {},
   "outputs": [],
   "source": [
    "#fining w2v_words\n",
    "w2v_words = list(w2v.wv.vocab)"
   ]
  },
  {
   "cell_type": "code",
   "execution_count": 41,
   "metadata": {},
   "outputs": [
    {
     "name": "stderr",
     "output_type": "stream",
     "text": [
      "100%|██████████| 46072/46072 [04:26<00:00, 172.96it/s]\n"
     ]
    }
   ],
   "source": [
    "#Avg_W2V for all Reviews\n",
    "avg_w2vs = []\n",
    "for sent in tqdm(Preproc_text):\n",
    "    #initializing number of words\n",
    "    n_words = 0\n",
    "    #initializing vector of size of 50\n",
    "    sent_vec = np.zeros(50)\n",
    "    for word in sent.split():\n",
    "        if word in w2v_words:\n",
    "            #creating for each word is an vector\n",
    "            vec = w2v.wv[word]\n",
    "            sent_vec += vec\n",
    "            n_words += 1\n",
    "    if n_words != 0:\n",
    "        sent_vec /= n_words\n",
    "        avg_w2vs.append(sent_vec)"
   ]
  },
  {
   "cell_type": "code",
   "execution_count": 42,
   "metadata": {},
   "outputs": [],
   "source": [
    "text_train_avg, text_test_avg, score_train_avg, score_test_avg = train_test_split(avg_w2vs, score, test_size=0.3, \n",
    "                                                                  stratify=None, random_state=0)\n",
    "avg_w2vs_kd = avg_w2vs[0:20000]\n",
    "score_kd = score[0:20000]\n",
    "text_train_avg_kd, text_test_avg_kd, score_train_avg_kd, score_test_avg_kd = train_test_split(avg_w2vs_kd, score_kd, test_size=0.3, \n",
    "                                                                  stratify=None, random_state=0)"
   ]
  },
  {
   "cell_type": "code",
   "execution_count": 43,
   "metadata": {},
   "outputs": [
    {
     "name": "stdout",
     "output_type": "stream",
     "text": [
      "(32250, 50)\n",
      "(13822, 50)\n",
      "(32250,)\n",
      "(13822,)\n",
      "(14000, 50)\n",
      "(6000, 50)\n"
     ]
    }
   ],
   "source": [
    "#standardization of data for Burte force\n",
    "std_train_avg = MaxAbsScaler().fit_transform(text_train_avg)\n",
    "std_test_avg = MaxAbsScaler().fit_transform(text_test_avg)\n",
    "print(std_train_avg.shape)\n",
    "print(std_test_avg.shape)\n",
    "print(score_train_avg.shape)\n",
    "print(score_test_avg.shape)\n",
    "#standardization of data for Kdtree\n",
    "std_train_avg_kd = MaxAbsScaler().fit_transform(text_train_avg_kd)\n",
    "std_test_avg_kd = MaxAbsScaler().fit_transform(text_test_avg_kd)\n",
    "print(std_train_avg_kd.shape)\n",
    "print(std_test_avg_kd.shape)"
   ]
  },
  {
   "cell_type": "markdown",
   "metadata": {},
   "source": [
    "AVGW2V(Brute Force)"
   ]
  },
  {
   "cell_type": "code",
   "execution_count": 44,
   "metadata": {},
   "outputs": [
    {
     "name": "stderr",
     "output_type": "stream",
     "text": [
      "100%|██████████| 25/25 [26:00<00:00, 62.50s/it]"
     ]
    },
    {
     "name": "stdout",
     "output_type": "stream",
     "text": [
      "\n",
      "The optimal number of neighbors is 49.\n"
     ]
    },
    {
     "name": "stderr",
     "output_type": "stream",
     "text": [
      "\n"
     ]
    },
    {
     "data": {
      "image/png": "[encoded data removed]",
      "text/plain": [
       "<Figure size 720x432 with 1 Axes>"
      ]
     },
     "metadata": {},
     "output_type": "display_data"
    }
   ],
   "source": [
    "myList = list(range(0,50))\n",
    "neighbors = list(filter(lambda x: x % 2 != 0, myList))\n",
    "# empty list that will hold cv scores\n",
    "cv_scores = []\n",
    "# perform 10-fold cross validation\n",
    "for k in tqdm(neighbors):\n",
    "    knn = KNeighborsClassifier(n_neighbors=k,algorithm='brute', n_jobs=-1)\n",
    "    scores = cross_val_score(knn, std_train_avg, score_train_avg, cv=10, scoring='roc_auc')\n",
    "    cv_scores.append(scores.mean())\n",
    "# changing to misclassification error\n",
    "MSE = [1 - x for x in cv_scores]\n",
    "\n",
    "# determining best k\n",
    "optimal_k = neighbors[MSE.index(min(MSE))]\n",
    "plt.figure(figsize=(10,6))\n",
    "plt.xlabel('K in KNN')\n",
    "plt.ylabel('Misclassification Error')\n",
    "plt.plot(neighbors, MSE, marker='o',markerfacecolor='green', markersize=10)\n",
    "print('\\nThe optimal number of neighbors is %d.' % optimal_k)"
   ]
  },
  {
   "cell_type": "code",
   "execution_count": 45,
   "metadata": {},
   "outputs": [
    {
     "name": "stdout",
     "output_type": "stream",
     "text": [
      "\n",
      "The accuracy of the knn classifier for k = 49 is 85.696715%\n"
     ]
    },
    {
     "data": {
      "image/png": "[encoded data removed]",
      "text/plain": [
       "<Figure size 432x288 with 2 Axes>"
      ]
     },
     "metadata": {},
     "output_type": "display_data"
    }
   ],
   "source": [
    "#learning the model k = optimal_k\n",
    "knn_optimal = KNeighborsClassifier(n_neighbors=optimal_k)\n",
    "\n",
    "# fitting the model\n",
    "knn_optimal.fit(std_train_avg, score_train_avg)\n",
    "\n",
    "# predict on the test response\n",
    "pred = knn_optimal.predict(std_test_avg)\n",
    "\n",
    "# evaluate accuracy on test data\n",
    "acc = accuracy_score(score_test_avg, pred) * 100\n",
    "\n",
    "print('\\nThe accuracy of the knn classifier for k = %d is %f%%' % (optimal_k, acc))\n",
    "\n",
    "cm = confusion_matrix(score_test_avg, pred)\n",
    "class_label = ['Negative', 'Positive']\n",
    "conf_matrix = pd.DataFrame(cm, index=class_label, columns=class_label)\n",
    "sns.heatmap(conf_matrix, annot=True, fmt='d')\n",
    "plt.ylabel('Actual Values')\n",
    "plt.xlabel('Precited Values')\n",
    "plt.show()"
   ]
  },
  {
   "cell_type": "markdown",
   "metadata": {},
   "source": [
    "AVGW2V(Kd Tree)"
   ]
  },
  {
   "cell_type": "code",
   "execution_count": 46,
   "metadata": {},
   "outputs": [],
   "source": [
    "#svd = TruncatedSVD(n_components=300)\n",
    "#std_train_avg_kd = svd.fit_transform(std_train_avg_kd)\n",
    "#std_test_avg_kd = svd.transform(std_test_avg_kd)"
   ]
  },
  {
   "cell_type": "code",
   "execution_count": 47,
   "metadata": {},
   "outputs": [
    {
     "name": "stderr",
     "output_type": "stream",
     "text": [
      "100%|██████████| 25/25 [03:01<00:00,  7.17s/it]"
     ]
    },
    {
     "name": "stdout",
     "output_type": "stream",
     "text": [
      "\n",
      "The optimal number of neighbors is 49.\n"
     ]
    },
    {
     "name": "stderr",
     "output_type": "stream",
     "text": [
      "\n"
     ]
    },
    {
     "data": {
      "image/png": "[encoded data removed]",
      "text/plain": [
       "<Figure size 720x432 with 1 Axes>"
      ]
     },
     "metadata": {},
     "output_type": "display_data"
    }
   ],
   "source": [
    "myList = list(range(0,50))\n",
    "neighbors = list(filter(lambda x: x % 2 != 0, myList))\n",
    "# empty list that will hold cv scores\n",
    "cv_scores = []\n",
    "# perform 10-fold cross validation\n",
    "for k in tqdm(neighbors):\n",
    "    knn = KNeighborsClassifier(n_neighbors=k,algorithm='kd_tree', n_jobs=-1)\n",
    "    scores = cross_val_score(knn, std_train_avg_kd, score_train_avg_kd, cv=5, scoring='roc_auc')\n",
    "    cv_scores.append(scores.mean())\n",
    "# changing to misclassification error\n",
    "MSE = [1 - x for x in cv_scores]\n",
    "\n",
    "# determining best k\n",
    "optimal_k = neighbors[MSE.index(min(MSE))]\n",
    "plt.figure(figsize=(10,6))\n",
    "plt.xlabel('K in KNN')\n",
    "plt.ylabel('Misclassification Error')\n",
    "plt.plot(neighbors, MSE, marker='o',markerfacecolor='green', markersize=10)\n",
    "print('\\nThe optimal number of neighbors is %d.' % optimal_k)"
   ]
  },
  {
   "cell_type": "code",
   "execution_count": 48,
   "metadata": {},
   "outputs": [
    {
     "name": "stdout",
     "output_type": "stream",
     "text": [
      "\n",
      "The accuracy of the knn classifier for k = 49 is 87.050000%\n"
     ]
    },
    {
     "data": {
      "image/png": "[encoded data removed]",
      "text/plain": [
       "<Figure size 432x288 with 2 Axes>"
      ]
     },
     "metadata": {},
     "output_type": "display_data"
    }
   ],
   "source": [
    "#learning the model k = optimal_k\n",
    "knn_optimal = KNeighborsClassifier(n_neighbors=optimal_k)\n",
    "\n",
    "# fitting the model\n",
    "knn_optimal.fit(std_train_avg_kd, score_train_avg_kd)\n",
    "\n",
    "# predict on the test response\n",
    "pred = knn_optimal.predict(std_test_avg_kd)\n",
    "\n",
    "# evaluate accuracy on test data\n",
    "acc = accuracy_score(score_test_avg_kd, pred) * 100\n",
    "\n",
    "print('\\nThe accuracy of the knn classifier for k = %d is %f%%' % (optimal_k, acc))\n",
    "\n",
    "cm = confusion_matrix(score_test_avg_kd, pred)\n",
    "class_label = ['Negative', 'Positive']\n",
    "conf_matrix = pd.DataFrame(cm, index=class_label, columns=class_label)\n",
    "sns.heatmap(conf_matrix, annot=True, fmt='d')\n",
    "plt.ylabel('Actual Values')\n",
    "plt.xlabel('Precited Values')\n",
    "plt.show()"
   ]
  },
  {
   "cell_type": "markdown",
   "metadata": {},
   "source": [
    "# Tfidf and W2V"
   ]
  },
  {
   "cell_type": "code",
   "execution_count": 49,
   "metadata": {},
   "outputs": [
    {
     "name": "stdout",
     "output_type": "stream",
     "text": [
      "46072\n"
     ]
    }
   ],
   "source": [
    "tfidf_vect = TfidfVectorizer(ngram_range=(1,2), min_df = 10, max_features = 500)\n",
    "tfidf = tfidf_vect.fit_transform(Preproc_text)\n",
    "print(len(Preproc_text))"
   ]
  },
  {
   "cell_type": "code",
   "execution_count": 50,
   "metadata": {},
   "outputs": [
    {
     "name": "stderr",
     "output_type": "stream",
     "text": [
      "100%|██████████| 46072/46072 [07:53<00:00, 97.23it/s] \n"
     ]
    }
   ],
   "source": [
    "from IPython.display import clear_output\n",
    "from tqdm import tqdm\n",
    "features = tfidf_vect.get_feature_names()\n",
    "tfidf_w2vs = []\n",
    "row = 0\n",
    "for sent in tqdm(Preproc_text):\n",
    "    clear_output(wait=True)\n",
    "    sent_vec = np.zeros(50)\n",
    "    tfidf_sum = 0\n",
    "    for word in sent.split():\n",
    "        if(word in w2v_words) and word in features:\n",
    "            vec = w2v.wv[word]\n",
    "            tfidf_value = tfidf[row, features.index(word)]\n",
    "            sent_vec += (vec * tfidf_value)\n",
    "            tfidf_sum += tfidf_value\n",
    "#    if(tfidf_sum != 0):\n",
    "    sent_vec /= tfidf_sum\n",
    "    tfidf_w2vs.append(sent_vec)\n",
    "#    row += 1\n",
    "    pass"
   ]
  },
  {
   "cell_type": "code",
   "execution_count": 51,
   "metadata": {},
   "outputs": [],
   "source": [
    "tfidf_w2vs = np.nan_to_num(tfidf_w2vs)\n",
    "score = np.nan_to_num(score)\n",
    "text_train_w2v, text_test_w2v, score_train_w2v, score_test_w2v = train_test_split(tfidf_w2vs, score, test_size=0.3, \n",
    "                                                                  stratify=None, random_state=0)\n",
    "tfidf_w2vs_kd = tfidf_w2vs[0:20000]\n",
    "score_w2v_kd = score[0:20000]\n",
    "text_train_w2v_kd, text_test_w2v_kd, score_train_w2v_kd, score_test_w2v_kd = train_test_split(tfidf_w2vs_kd, score_w2v_kd, test_size=0.3, \n",
    "                                                                  stratify=None, random_state=0)"
   ]
  },
  {
   "cell_type": "code",
   "execution_count": 52,
   "metadata": {},
   "outputs": [
    {
     "name": "stdout",
     "output_type": "stream",
     "text": [
      "(32250, 50)\n",
      "(13822, 50)\n"
     ]
    }
   ],
   "source": [
    "#standardization of data\n",
    "std_train_w2v = MaxAbsScaler().fit_transform(text_train_w2v)\n",
    "std_test_w2v = MaxAbsScaler().fit_transform(text_test_w2v)\n",
    "print(std_train_w2v.shape)\n",
    "print(std_test_w2v.shape)"
   ]
  },
  {
   "cell_type": "markdown",
   "metadata": {},
   "source": [
    "TFIDFW2V(Brute Force)"
   ]
  },
  {
   "cell_type": "code",
   "execution_count": 53,
   "metadata": {},
   "outputs": [
    {
     "name": "stderr",
     "output_type": "stream",
     "text": [
      "100%|██████████| 25/25 [26:26<00:00, 64.19s/it]"
     ]
    },
    {
     "name": "stdout",
     "output_type": "stream",
     "text": [
      "\n",
      "The optimal number of neighbors is 43.\n"
     ]
    },
    {
     "name": "stderr",
     "output_type": "stream",
     "text": [
      "\n"
     ]
    },
    {
     "data": {
      "image/png": "[encoded data removed]",
      "text/plain": [
       "<Figure size 720x432 with 1 Axes>"
      ]
     },
     "metadata": {},
     "output_type": "display_data"
    }
   ],
   "source": [
    "myList = list(range(0,50))\n",
    "neighbors = list(filter(lambda x: x % 2 != 0, myList))\n",
    "# empty list that will hold cv scores\n",
    "cv_scores = []\n",
    "# perform 10-fold cross validation\n",
    "for k in tqdm(neighbors):\n",
    "    knn = KNeighborsClassifier(n_neighbors=k,algorithm='brute', n_jobs=-1)\n",
    "    scores = cross_val_score(knn, std_train_w2v, score_train_w2v, cv=10, scoring='accuracy')\n",
    "    cv_scores.append(scores.mean())\n",
    "# changing to misclassification error\n",
    "MSE = [1 - x for x in cv_scores]\n",
    "\n",
    "# determining best k\n",
    "optimal_k = neighbors[MSE.index(min(MSE))]\n",
    "plt.figure(figsize=(10,6))\n",
    "plt.xlabel('K in KNN')\n",
    "plt.ylabel('Misclassification Error')\n",
    "plt.plot(neighbors, MSE, marker='o',markerfacecolor='green', markersize=10)\n",
    "print('\\nThe optimal number of neighbors is %d.' % optimal_k)"
   ]
  },
  {
   "cell_type": "code",
   "execution_count": 54,
   "metadata": {},
   "outputs": [
    {
     "name": "stdout",
     "output_type": "stream",
     "text": [
      "\n",
      "The accuracy of the knn classifier for k = 43 is 83.446679%\n"
     ]
    },
    {
     "data": {
      "image/png": "[encoded data removed]",
      "text/plain": [
       "<Figure size 432x288 with 2 Axes>"
      ]
     },
     "metadata": {},
     "output_type": "display_data"
    }
   ],
   "source": [
    "#learning the model k = optimal_k\n",
    "knn_optimal = KNeighborsClassifier(n_neighbors=optimal_k)\n",
    "\n",
    "# fitting the model\n",
    "knn_optimal.fit(std_train_w2v, score_train_w2v)\n",
    "\n",
    "# predict on the test response\n",
    "pred = knn_optimal.predict(std_test_w2v)\n",
    "\n",
    "# evaluate accuracy on test data\n",
    "acc = accuracy_score(score_test_w2v, pred) * 100\n",
    "\n",
    "print('\\nThe accuracy of the knn classifier for k = %d is %f%%' % (optimal_k, acc))\n",
    "\n",
    "cm = confusion_matrix(score_test_w2v, pred)\n",
    "class_label = ['Negative', 'Positive']\n",
    "conf_matrix = pd.DataFrame(cm, index=class_label, columns=class_label)\n",
    "sns.heatmap(conf_matrix, annot=True, fmt='d')\n",
    "plt.ylabel('Actual Values')\n",
    "plt.xlabel('Precited Values')\n",
    "plt.show()"
   ]
  },
  {
   "cell_type": "markdown",
   "metadata": {},
   "source": [
    "TFIDFW2V(Kd Tree)"
   ]
  },
  {
   "cell_type": "code",
   "execution_count": 55,
   "metadata": {},
   "outputs": [],
   "source": [
    "std_train_w2v_kd = MaxAbsScaler().fit_transform(text_train_w2v_kd)\n",
    "std_test_w2v_kd = MaxAbsScaler().fit_transform(text_test_w2v_kd)"
   ]
  },
  {
   "cell_type": "code",
   "execution_count": 56,
   "metadata": {},
   "outputs": [
    {
     "name": "stdout",
     "output_type": "stream",
     "text": [
      "\n",
      "The optimal number of neighbors is 49.\n"
     ]
    },
    {
     "data": {
      "image/png": "[encoded data removed]",
      "text/plain": [
       "<Figure size 720x432 with 1 Axes>"
      ]
     },
     "metadata": {},
     "output_type": "display_data"
    }
   ],
   "source": [
    "myList = list(range(0,50))\n",
    "neighbors = list(filter(lambda x: x % 2 != 0, myList))\n",
    "# empty list that will hold cv scores\n",
    "cv_scores = []\n",
    "# perform 10-fold cross validation\n",
    "for k in neighbors:\n",
    "    knn = KNeighborsClassifier(n_neighbors=k,algorithm='kd_tree', n_jobs=-1)\n",
    "    scores = cross_val_score(knn, std_train_w2v_kd, score_train_w2v_kd, cv=5, scoring='accuracy')\n",
    "    cv_scores.append(scores.mean())\n",
    "# changing to misclassification error\n",
    "MSE = [1 - x for x in cv_scores]\n",
    "\n",
    "# determining best k\n",
    "optimal_k = neighbors[MSE.index(min(MSE))]\n",
    "plt.figure(figsize=(10,6))\n",
    "plt.xlabel('K in KNN')\n",
    "plt.ylabel('Misclassification Error')\n",
    "plt.plot(neighbors, MSE, marker='o',markerfacecolor='green', markersize=10)\n",
    "print('\\nThe optimal number of neighbors is %d.' % optimal_k)"
   ]
  },
  {
   "cell_type": "code",
   "execution_count": 57,
   "metadata": {},
   "outputs": [
    {
     "name": "stdout",
     "output_type": "stream",
     "text": [
      "\n",
      "The accuracy of the knn classifier for k = 49 is 85.450000%\n"
     ]
    },
    {
     "data": {
      "image/png": "[encoded data removed]",
      "text/plain": [
       "<Figure size 432x288 with 2 Axes>"
      ]
     },
     "metadata": {},
     "output_type": "display_data"
    }
   ],
   "source": [
    "#learning the model k = optimal_k\n",
    "knn_optimal = KNeighborsClassifier(n_neighbors=optimal_k)\n",
    "\n",
    "# fitting the model\n",
    "knn_optimal.fit(std_train_w2v_kd, score_train_w2v_kd)\n",
    "\n",
    "# predict on the test response\n",
    "pred = knn_optimal.predict(std_test_w2v_kd)\n",
    "\n",
    "# evaluate accuracy on test data\n",
    "acc = accuracy_score(score_test_w2v_kd, pred) * 100\n",
    "\n",
    "print('\\nThe accuracy of the knn classifier for k = %d is %f%%' % (optimal_k, acc))\n",
    "\n",
    "cm = confusion_matrix(score_test_w2v_kd, pred)\n",
    "class_label = ['Negative', 'Positive']\n",
    "conf_matrix = pd.DataFrame(cm, index=class_label, columns=class_label)\n",
    "sns.heatmap(conf_matrix, annot=True, fmt='d')\n",
    "plt.ylabel('Actual Values')\n",
    "plt.xlabel('Precited Values')\n",
    "plt.show()"
   ]
  },
  {
   "cell_type": "markdown",
   "metadata": {},
   "source": [
    "## Conclusion"
   ]
  },
  {
   "cell_type": "code",
   "execution_count": 3,
   "metadata": {},
   "outputs": [
    {
     "data": {
      "text/html": [
       "<table>\n",
       "<tbody>\n",
       "<tr><td>S.NO.</td><td>MODEL || KNN ||         </td><td>Best K</td><td>Test Accuracy</td></tr>\n",
       "<tr><td>1    </td><td>BOW | brute |           </td><td>49    </td><td>83.4177      </td></tr>\n",
       "<tr><td>2    </td><td>BOW | kd_tree |         </td><td>49    </td><td>85.7500      </td></tr>\n",
       "<tr><td>3    </td><td>TF-IDF | brute |        </td><td>29    </td><td>83.3888      </td></tr>\n",
       "<tr><td>4    </td><td>TF-IDF | kd_tree |      </td><td>49    </td><td>85.0000      </td></tr>\n",
       "<tr><td>5    </td><td>AVG W2VEC | brute |     </td><td>49    </td><td>85.6967      </td></tr>\n",
       "<tr><td>6    </td><td>AVG W2VEC | kd_tree |   </td><td>49    </td><td>87.0500      </td></tr>\n",
       "<tr><td>7    </td><td>TF-IDF W2VEC | brute |  </td><td>43    </td><td>83.4466      </td></tr>\n",
       "<tr><td>8    </td><td>TF-IDF W2VEC | kd_tree |</td><td>49    </td><td>85.4500      </td></tr>\n",
       "</tbody>\n",
       "</table>"
      ],
      "text/plain": [
       "<IPython.core.display.HTML object>"
      ]
     },
     "metadata": {},
     "output_type": "display_data"
    }
   ],
   "source": [
    "from IPython.display import HTML, display\n",
    "import tabulate\n",
    "table = [[\"S.NO.\",\"MODEL || KNN ||\",\"Best K\",\"Test Accuracy\"],\n",
    "         [\"1\",\"BOW | brute |\",\"49\",\"83.4177\"],\n",
    "         [\"2\",\"BOW | kd_tree |\",\"49\",\"85.7500\"],\n",
    "         [\"3\",\"TF-IDF | brute |\",\"29\",\"83.3888\"],\n",
    "         [\"4\",\"TF-IDF | kd_tree |\",\"49\",\"85.0000\"],\n",
    "         [\"5\",\"AVG W2VEC | brute |\",\"49\",\"85.6967\"],\n",
    "         [\"6\",\"AVG W2VEC | kd_tree |\",\"49\",\"87.0500\"],\n",
    "         [\"7\",\"TF-IDF W2VEC | brute |\",\"43\",\"83.4466\"],\n",
    "         [\"8\",\"TF-IDF W2VEC | kd_tree |\",\"49\",\"85.4500\"]]\n",
    "display(HTML(tabulate.tabulate(table, tablefmt='html')))"
   ]
  },
  {
   "cell_type": "code",
   "execution_count": null,
   "metadata": {},
   "outputs": [],
   "source": []
  }
 ],
 "metadata": {
  "kernelspec": {
   "display_name": "Python 3",
   "language": "python",
   "name": "python3"
  },
  "language_info": {
   "codemirror_mode": {
    "name": "ipython",
    "version": 3
   },
   "file_extension": ".py",
   "mimetype": "text/x-python",
   "name": "python",
   "nbconvert_exporter": "python",
   "pygments_lexer": "ipython3",
   "version": "3.6.5"
  }
 },
 "nbformat": 4,
 "nbformat_minor": 2
}
